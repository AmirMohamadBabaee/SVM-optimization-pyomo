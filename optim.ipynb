{
 "cells": [
  {
   "cell_type": "markdown",
   "metadata": {},
   "source": [
    "# SVM Optimization"
   ]
  },
  {
   "cell_type": "markdown",
   "metadata": {},
   "source": [
    "## Import libraries"
   ]
  },
  {
   "cell_type": "code",
   "execution_count": 63,
   "metadata": {},
   "outputs": [],
   "source": [
    "import pyomo.environ as pyo\n",
    "import matplotlib.pyplot as plt\n",
    "import numpy as np"
   ]
  },
  {
   "cell_type": "markdown",
   "metadata": {},
   "source": [
    "## Generate sample input and output set"
   ]
  },
  {
   "cell_type": "code",
   "execution_count": 41,
   "metadata": {},
   "outputs": [],
   "source": [
    "x = [[0, 0], [0, 1], [1, 0], [1, 1], [2, 0], [0, 2]]\n",
    "y = [-1, -1, -1, 1, 1, 1]"
   ]
  },
  {
   "cell_type": "code",
   "execution_count": 42,
   "metadata": {},
   "outputs": [],
   "source": [
    "data_num = len(x)\n",
    "feature_num = len(x[0])"
   ]
  },
  {
   "cell_type": "markdown",
   "metadata": {},
   "source": [
    "## Define Model"
   ]
  },
  {
   "cell_type": "code",
   "execution_count": 43,
   "metadata": {},
   "outputs": [],
   "source": [
    "model = pyo.ConcreteModel()"
   ]
  },
  {
   "cell_type": "markdown",
   "metadata": {},
   "source": [
    "## Define Sets"
   ]
  },
  {
   "cell_type": "code",
   "execution_count": 44,
   "metadata": {},
   "outputs": [],
   "source": [
    "model.data_index    = pyo.Set(initialize=[i for i in range(data_num)])\n",
    "model.feature_index = pyo.Set(initialize=[i for i in range(feature_num)])"
   ]
  },
  {
   "cell_type": "markdown",
   "metadata": {},
   "source": [
    "## Define Params"
   ]
  },
  {
   "cell_type": "code",
   "execution_count": 45,
   "metadata": {},
   "outputs": [],
   "source": [
    "model.data_num      = pyo.Param(domain=pyo.NonNegativeIntegers, initialize=data_num)\n",
    "model.feature_num   = pyo.Param(domain=pyo.NonNegativeIntegers, initialize=feature_num)\n",
    "model.C             = pyo.Param(domain=pyo.Reals, default=1e9)"
   ]
  },
  {
   "cell_type": "markdown",
   "metadata": {},
   "source": [
    "## Define Vars"
   ]
  },
  {
   "cell_type": "code",
   "execution_count": 46,
   "metadata": {},
   "outputs": [],
   "source": [
    "model.u     = pyo.Var(model.feature_index, domain=pyo.NonNegativeReals)\n",
    "model.w     = pyo.Var(model.feature_index, domain=pyo.Reals)\n",
    "model.b     = pyo.Var(domain=pyo.Reals)\n",
    "model.relax = pyo.Var(model.data_index, domain=pyo.NonNegativeReals)"
   ]
  },
  {
   "cell_type": "markdown",
   "metadata": {},
   "source": [
    "## Define Objective"
   ]
  },
  {
   "cell_type": "code",
   "execution_count": 47,
   "metadata": {},
   "outputs": [],
   "source": [
    "def objective(model: pyo.ConcreteModel):\n",
    "    return pyo.summation(model.u) + model.C * pyo.summation(model.relax)\n",
    "\n",
    "model.obj = pyo.Objective(rule=objective, sense=pyo.minimize)"
   ]
  },
  {
   "cell_type": "markdown",
   "metadata": {},
   "source": [
    "## Define Constraints"
   ]
  },
  {
   "cell_type": "code",
   "execution_count": 48,
   "metadata": {},
   "outputs": [],
   "source": [
    "for i in range(feature_num):\n",
    "    setattr(model, f'abs_constraint_1_{i}', pyo.Constraint(expr=model.u[i] >= model.w[i]))\n",
    "    setattr(model, f'abs_constraint_2_{i}', pyo.Constraint(expr=model.u[i] >= -model.w[i]))\n",
    "\n",
    "for i in range(data_num):\n",
    "    setattr(model, f'constraint_{i+1}', pyo.Constraint(expr=y[i] * (pyo.summation(x[i], model.w) + model.b) + model.relax[i] >= 1))"
   ]
  },
  {
   "cell_type": "markdown",
   "metadata": {},
   "source": [
    "## Determine Solver"
   ]
  },
  {
   "cell_type": "code",
   "execution_count": 49,
   "metadata": {},
   "outputs": [],
   "source": [
    "solver_name = 'glpk'\n",
    "opt = pyo.SolverFactory(solver_name)\n",
    "result=opt.solve(model)"
   ]
  },
  {
   "cell_type": "markdown",
   "metadata": {},
   "source": [
    "## Show Output"
   ]
  },
  {
   "cell_type": "code",
   "execution_count": 50,
   "metadata": {},
   "outputs": [
    {
     "name": "stdout",
     "output_type": "stream",
     "text": [
      "Model unknown\n",
      "\n",
      "  Variables:\n",
      "    u : Size=2, Index=feature_index\n",
      "        Key : Lower : Value : Upper : Fixed : Stale : Domain\n",
      "          0 :     0 :   2.0 :  None : False : False : NonNegativeReals\n",
      "          1 :     0 :   2.0 :  None : False : False : NonNegativeReals\n",
      "    w : Size=2, Index=feature_index\n",
      "        Key : Lower : Value : Upper : Fixed : Stale : Domain\n",
      "          0 :  None :   2.0 :  None : False : False :  Reals\n",
      "          1 :  None :   2.0 :  None : False : False :  Reals\n",
      "    b : Size=1, Index=None\n",
      "        Key  : Lower : Value : Upper : Fixed : Stale : Domain\n",
      "        None :  None :  -3.0 :  None : False : False :  Reals\n",
      "    relax : Size=6, Index=data_index\n",
      "        Key : Lower : Value : Upper : Fixed : Stale : Domain\n",
      "          0 :     0 :   0.0 :  None : False : False : NonNegativeReals\n",
      "          1 :     0 :   0.0 :  None : False : False : NonNegativeReals\n",
      "          2 :     0 :   0.0 :  None : False : False : NonNegativeReals\n",
      "          3 :     0 :   0.0 :  None : False : False : NonNegativeReals\n",
      "          4 :     0 :   0.0 :  None : False : False : NonNegativeReals\n",
      "          5 :     0 :   0.0 :  None : False : False : NonNegativeReals\n",
      "\n",
      "  Objectives:\n",
      "    obj : Size=1, Index=None, Active=True\n",
      "        Key  : Active : Value\n",
      "        None :   True :   4.0\n",
      "\n",
      "  Constraints:\n",
      "    abs_constraint_1_0 : Size=1\n",
      "        Key  : Lower : Body : Upper\n",
      "        None :  None :  0.0 :   0.0\n",
      "    abs_constraint_2_0 : Size=1\n",
      "        Key  : Lower : Body : Upper\n",
      "        None :  None : -4.0 :   0.0\n",
      "    abs_constraint_1_1 : Size=1\n",
      "        Key  : Lower : Body : Upper\n",
      "        None :  None :  0.0 :   0.0\n",
      "    abs_constraint_2_1 : Size=1\n",
      "        Key  : Lower : Body : Upper\n",
      "        None :  None : -4.0 :   0.0\n",
      "    constraint_1 : Size=1\n",
      "        Key  : Lower : Body : Upper\n",
      "        None :   1.0 :  3.0 :  None\n",
      "    constraint_2 : Size=1\n",
      "        Key  : Lower : Body : Upper\n",
      "        None :   1.0 :  1.0 :  None\n",
      "    constraint_3 : Size=1\n",
      "        Key  : Lower : Body : Upper\n",
      "        None :   1.0 :  1.0 :  None\n",
      "    constraint_4 : Size=1\n",
      "        Key  : Lower : Body : Upper\n",
      "        None :   1.0 :  1.0 :  None\n",
      "    constraint_5 : Size=1\n",
      "        Key  : Lower : Body : Upper\n",
      "        None :   1.0 :  1.0 :  None\n",
      "    constraint_6 : Size=1\n",
      "        Key  : Lower : Body : Upper\n",
      "        None :   1.0 :  1.0 :  None\n"
     ]
    }
   ],
   "source": [
    "model.display()"
   ]
  },
  {
   "cell_type": "markdown",
   "metadata": {},
   "source": [
    "## Plot Output"
   ]
  },
  {
   "cell_type": "code",
   "execution_count": 51,
   "metadata": {},
   "outputs": [
    {
     "data": {
      "text/plain": [
       "(2.0, 2.0, -3.0)"
      ]
     },
     "execution_count": 51,
     "metadata": {},
     "output_type": "execute_result"
    }
   ],
   "source": [
    "w_0 = pyo.value(model.w[0])\n",
    "w_1 = pyo.value(model.w[1])\n",
    "b   = pyo.value(model.b)\n",
    "w_0, w_1, b"
   ]
  },
  {
   "cell_type": "code",
   "execution_count": 61,
   "metadata": {},
   "outputs": [
    {
     "data": {
      "text/plain": [
       "(-1.0, 1.5)"
      ]
     },
     "execution_count": 61,
     "metadata": {},
     "output_type": "execute_result"
    }
   ],
   "source": [
    "a_ = -w_0 / w_1\n",
    "b_ = -b / w_1\n",
    "a_, b_"
   ]
  },
  {
   "cell_type": "code",
   "execution_count": 59,
   "metadata": {},
   "outputs": [
    {
     "data": {
      "text/plain": [
       "[[0, 0], [0, 1], [1, 0]]"
      ]
     },
     "execution_count": 59,
     "metadata": {},
     "output_type": "execute_result"
    }
   ],
   "source": [
    "x_neg"
   ]
  },
  {
   "cell_type": "code",
   "execution_count": 66,
   "metadata": {},
   "outputs": [
    {
     "data": {
      "text/plain": [
       "<matplotlib.legend.Legend at 0x7f67c8967280>"
      ]
     },
     "execution_count": 66,
     "metadata": {},
     "output_type": "execute_result"
    },
    {
     "data": {
      "image/png": "[encoded data removed]",
      "text/plain": [
       "<Figure size 640x480 with 1 Axes>"
      ]
     },
     "metadata": {},
     "output_type": "display_data"
    }
   ],
   "source": [
    "x_pos = [x_elem for i, x_elem in enumerate(x) if y[i] == 1]\n",
    "x_neg = [x_elem for i, x_elem in enumerate(x) if y[i] == -1]\n",
    "plt.scatter(list(map(lambda x: x[0], x_pos)), list(map(lambda x: x[1], x_pos)), c='b', marker='+', label='Positive')\n",
    "plt.scatter(list(map(lambda x: x[0], x_neg)), list(map(lambda x: x[1], x_neg)), c='r', marker='o', label='Negative')\n",
    "\n",
    "xx = np.linspace(-0.5, 2)\n",
    "yy = a_ * xx + b_\n",
    "plt.plot(xx, yy, 'g--', label='decision boundry')\n",
    "plt.legend()"
   ]
  }
 ],
 "metadata": {
  "kernelspec": {
   "display_name": "Python 3 (ipykernel)",
   "language": "python",
   "name": "python3"
  },
  "language_info": {
   "codemirror_mode": {
    "name": "ipython",
    "version": 3
   },
   "file_extension": ".py",
   "mimetype": "text/x-python",
   "name": "python",
   "nbconvert_exporter": "python",
   "pygments_lexer": "ipython3",
   "version": "3.8.10"
  },
  "orig_nbformat": 4,
  "vscode": {
   "interpreter": {
    "hash": "7268f8b2c8e9b7c101aef22317ecead934d41adaa74e017730d34c40a6ef846d"
   }
  }
 },
 "nbformat": 4,
 "nbformat_minor": 2
}
